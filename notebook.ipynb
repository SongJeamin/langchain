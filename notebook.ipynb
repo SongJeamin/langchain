{
 "cells": [
  {
   "cell_type": "code",
   "execution_count": null,
   "metadata": {},
   "outputs": [
    {
     "data": {
      "text/plain": [
       "AIMessageChunk(content='This poem seems to be describing the Python programming language, highlighting some of its key features and characteristics. Let\\'s break it down and explain how each line relates to Python:\\n\\n1. \"Python, elegant and sleek,\"\\n   - This line is praising Python for its elegance and simplicity. Python is known for its clean and readable syntax, which makes it a popular choice among developers.\\n\\n2. \"Indentation makes me weak.\"\\n   - In Python, indentation is crucial for defining the structure of the code. Unlike other programming languages that use curly braces or keywords to denote code blocks, Python uses indentation to indicate the beginning and end of blocks of code. This enforced indentation can sometimes be challenging for programmers who are used to other languages but is considered a key feature of Python\\'s readability and consistency.\\n\\n3. \"Simple syntax, easy to read,\"\\n   - Python is famous for its simple and straightforward syntax. It uses English-like keywords and minimalistic punctuation, making it easy to learn and understand, even for beginners. This simplicity contributes to Python\\'s readability and maintainability.\\n\\n4. \"In its embrace, I find my need.\"\\n   - This line suggests that the speaker finds comfort and fulfillment in using Python. The language\\'s user-friendly design and extensive libraries make it suitable for a wide range of applications, from web development to data analysis and machine learning.\\n\\nOverall, this poem captures the essence of Python as a powerful and user-friendly programming language that prioritizes readability and simplicity.')"
      ]
     },
     "execution_count": 21,
     "metadata": {},
     "output_type": "execute_result"
    }
   ],
   "source": [
    "from langchain.chat_models import ChatOpenAI\n",
    "from langchain.prompts import PromptTemplate,ChatPromptTemplate\n",
    "from langchain.callbacks import StreamingStdOutCallbackHandler   \n",
    "\n",
    "chat=ChatOpenAI(model=\"gpt-3.5-turbo\",\n",
    "                temperature=0.2,streaming=True,\n",
    "                callbacks=[StreamingStdOutCallbackHandler]\n",
    "                  )\n",
    "               \n",
    "\n",
    "poet_prompt=ChatPromptTemplate.from_messages([\n",
    "   (\n",
    "       \"system\",\"You're an emotional poet, and you usually write poems about your critical view of the various programming languages that exist in this world.\\\n",
    "        For your information, you write short poems that do not exceed 30 words.\"),\n",
    "   (\"human\",\"I want to write a poem about {language}.\")\n",
    "])\n",
    "\n",
    "poet_chain=poet_prompt|chat\n",
    "\n",
    "explain_poet_prompt=ChatPromptTemplate.from_messages([\n",
    "    (\n",
    "        \"system\",\"You are an explanator who looks at a poem about a programming language\\\n",
    "              and explains in detail how to express it.\"\n",
    "    ), \n",
    "    (\"human\",\"{poem}\")\n",
    "])\n",
    "\n",
    "explain_poet_chain=explain_poet_prompt|chat\n",
    "\n",
    "final_chain={\"poem\":poet_chain}|explain_poet_chain\n",
    "\n",
    "final_chain.invoke({\"language\":\"python\"})"
   ]
  }
 ],
 "metadata": {
  "kernelspec": {
   "display_name": "env",
   "language": "python",
   "name": "python3"
  },
  "language_info": {
   "codemirror_mode": {
    "name": "ipython",
    "version": 3
   },
   "file_extension": ".py",
   "mimetype": "text/x-python",
   "name": "python",
   "nbconvert_exporter": "python",
   "pygments_lexer": "ipython3",
   "version": "3.11.6"
  }
 },
 "nbformat": 4,
 "nbformat_minor": 2
}
