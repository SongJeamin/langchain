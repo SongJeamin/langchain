{
 "cells": [
  {
   "cell_type": "code",
   "execution_count": null,
   "metadata": {},
   "outputs": [
    {
     "name": "stdout",
     "output_type": "stream",
     "text": [
      "\"Avatar\" is a science fiction film directed by James Cameron. It was released in 2009 and became the highest-grossing film of all time, surpassing Cameron's own \"Titanic.\" The movie is known for its groundbreaking visual effects and use of 3D technology.\n",
      "\n",
      "The story is set in the mid-22nd century on the lush alien world of Pandora, where humans are mining a valuable mineral called unobtanium. The protagonist, Jake Sully, a paralyzed former Marine, is sent to Pandora as an avatar, a genetically engineered hybrid of human DNA and the native Na'vi species, to infiltrate the Na'vi and gain their trust.\n",
      "\n",
      "As Jake spends more time with the Na'vi, particularly with Neytiri, he begins to question his loyalty to the human corporation and becomes embroiled in a conflict between the Na'vi and the humans. The film explores themes of environmentalism, imperialism, and the clash of cultures.\n",
      "\n",
      "\"Avatar\" was praised for its visual effects, world-building, and storytelling. A sequel, \"Avatar 2,\" is currently in production and is set to be released in 2022, with several more sequels planned."
     ]
    },
    {
     "data": {
      "text/plain": [
       "AIMessageChunk(content='\"Avatar\" is a science fiction film directed by James Cameron. It was released in 2009 and became the highest-grossing film of all time, surpassing Cameron\\'s own \"Titanic.\" The movie is known for its groundbreaking visual effects and use of 3D technology.\\n\\nThe story is set in the mid-22nd century on the lush alien world of Pandora, where humans are mining a valuable mineral called unobtanium. The protagonist, Jake Sully, a paralyzed former Marine, is sent to Pandora as an avatar, a genetically engineered hybrid of human DNA and the native Na\\'vi species, to infiltrate the Na\\'vi and gain their trust.\\n\\nAs Jake spends more time with the Na\\'vi, particularly with Neytiri, he begins to question his loyalty to the human corporation and becomes embroiled in a conflict between the Na\\'vi and the humans. The film explores themes of environmentalism, imperialism, and the clash of cultures.\\n\\n\"Avatar\" was praised for its visual effects, world-building, and storytelling. A sequel, \"Avatar 2,\" is currently in production and is set to be released in 2022, with several more sequels planned.')"
      ]
     },
     "execution_count": 32,
     "metadata": {},
     "output_type": "execute_result"
    }
   ],
   "source": [
    "from langchain.chat_models import ChatOpenAI\n",
    "from langchain.prompts import ChatPromptTemplate\n",
    "from langchain.prompts.few_shot import FewShotChatMessagePromptTemplate\n",
    "from langchain.callbacks import StreamingStdOutCallbackHandler  \n",
    "\n",
    "# ChatGPT 초기화\n",
    "chat=ChatOpenAI(model=\"gpt-3.5-turbo\",\n",
    "                temperature=0.2,streaming=True,\n",
    "                callbacks=[StreamingStdOutCallbackHandler()]\n",
    "                  )\n",
    "\n",
    "### Few-shot 예제\n",
    "\n",
    "example=[\n",
    "    {\n",
    "        \"movie\":\"Venom 3\",\n",
    "        \"answer\":'''\n",
    "            Here are what i know:\n",
    "            director:Kelly Marcel\n",
    "            main cast:Tom Hardy, Chiwetel Ejiofor, Juno Temple, Rhys Ifans\n",
    "            budget:Not officially disclosed\n",
    "            box office revenue:TBD\n",
    "            genre of the movie:Action, Science Fiction, Superhero\n",
    "            small synopsis:In \"Venom 3: Last Dance,\" Eddie Brock and his symbiote companion Venom face their most challenging adversaries yet.\\\n",
    "                  This time, they contend with Nul, the symbiote god, as they navigate their complex bond and try to save Earth from destruction\n",
    "        '''\n",
    "        }\n",
    "]    \n",
    "# chat프롬프트 템플릿 설정 \n",
    "example_prompt=ChatPromptTemplate.from_messages([\n",
    "    (\"human\",\"What do you know about {movie}?\"),\n",
    "    (\"ai\",\"{answer}\")\n",
    "\n",
    "])\n",
    "\n",
    "#fewshotchatpromptteplate 생성\n",
    "example_prompt=FewShotChatMessagePromptTemplate(\n",
    "    example_prompt=example_prompt,\n",
    "    examples=example\n",
    ")\n",
    "final_prompt=ChatPromptTemplate.from_messages([\n",
    "    (\"system\",\"You are a movie expert and you want short answer\"),\n",
    "    example_prompt,\n",
    "    (\"human\",\"what do you know about {movie}?\")\n",
    "])\n",
    "\n",
    "#프롬프트-chat 체인으로 묶어서 ai 답변 출력\n",
    "chain=final_prompt|chat\n",
    "\n",
    "chain.invoke({\"movie\":\"Avatar\"})\n",
    "\n"
   ]
  },
  {
   "cell_type": "code",
   "execution_count": null,
   "metadata": {},
   "outputs": [],
   "source": []
  }
 ],
 "metadata": {
  "kernelspec": {
   "display_name": "env",
   "language": "python",
   "name": "python3"
  },
  "language_info": {
   "codemirror_mode": {
    "name": "ipython",
    "version": 3
   },
   "file_extension": ".py",
   "mimetype": "text/x-python",
   "name": "python",
   "nbconvert_exporter": "python",
   "pygments_lexer": "ipython3",
   "version": "3.11.6"
  }
 },
 "nbformat": 4,
 "nbformat_minor": 2
}
