{
 "cells": [
  {
   "cell_type": "code",
   "execution_count": null,
   "metadata": {},
   "outputs": [],
   "source": [
    "from langchain.chat_models import ChatOpenAI\n",
    "from langchain.prompts import PromptTemplate,ChatPromptTemplate\n",
    "from langchain.callbacks import StreamingStdOutCallbackHandler  \n",
    "\n",
    "chat=ChatOpenAI(model=\"gpt-3.5-turbo\",\n",
    "                temperature=0.2,streaming=True,\n",
    "                callbacks=[StreamingStdOutCallbackHandler]\n",
    "                  )\n",
    "               \n",
    "poet_prompt=ChatPromptTemplate.from_messages([\n",
    "   (\n",
    "       \"system\",\"You're an emotional poet, and you usually write poems about your critical view of the various programming languages that exist in this world.\\\n",
    "        For your information, you write short poems that do not exceed 5 words.\"),\n",
    "   (\"human\",\"I want to write a poem about {language}.\")\n",
    "])\n",
    "\n",
    "poet_chain=poet_prompt|chat\n",
    "\n",
    "explain_poet_prompt=ChatPromptTemplate.from_messages([\n",
    " (\n",
    "     \"system\",\"You are an explanator who looks at a poem about a programming language\\\n",
    "             and explains in detail how to express it.\"\n",
    "   ), \n",
    "    (\"human\",\"{poem}\")\n",
    "])\n",
    "\n",
    "explain_poet_chain=explain_poet_prompt|chat\n",
    "\n",
    "final_chain={\"poem\":poet_chain}|explain_poet_chain\n",
    "\n",
    "poet_chain.invoke({\"language\":\"python\"})\n",
    " \n"
   ]
  }
 ],
 "metadata": {
  "kernelspec": {
   "display_name": "env",
   "language": "python",
   "name": "python3"
  },
  "language_info": {
   "codemirror_mode": {
    "name": "ipython",
    "version": 3
   },
   "file_extension": ".py",
   "mimetype": "text/x-python",
   "name": "python",
   "nbconvert_exporter": "python",
   "pygments_lexer": "ipython3",
   "version": "3.11.6"
  }
 },
 "nbformat": 4,
 "nbformat_minor": 2
}
